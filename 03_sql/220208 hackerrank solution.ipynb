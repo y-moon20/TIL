{
 "cells": [
  {
   "cell_type": "markdown",
   "id": "e603a474",
   "metadata": {},
   "source": [
    "## Weather Observation Station 2\n",
    "https://www.hackerrank.com/challenges/weather-observation-station-2/problem"
   ]
  },
  {
   "cell_type": "code",
   "execution_count": null,
   "id": "761729f7",
   "metadata": {},
   "outputs": [],
   "source": [
    "QUERY = \"\"\"\n",
    "    SELECT ROUND(SUM(LAT_N), 2), ROUND(SUM(LONG_W),2)\n",
    "    FROM STATION;\n",
    "\"\"\""
   ]
  },
  {
   "cell_type": "markdown",
   "id": "402b099c",
   "metadata": {},
   "source": [
    "## Weather Observation Station 18\n",
    "https://www.hackerrank.com/challenges/weather-observation-station-18/problem"
   ]
  },
  {
   "cell_type": "code",
   "execution_count": null,
   "id": "0ec56e77",
   "metadata": {},
   "outputs": [],
   "source": [
    "QUERY = \"\"\"\n",
    "    SELECT ROUND((MAX(LAT_N) - MIN(LAT_N) + MAX(LONG_W) - MIN(LONG_W)), 4)\n",
    "    FROM STATION;\n",
    "\"\"\""
   ]
  }
 ],
 "metadata": {
  "kernelspec": {
   "display_name": "Python 3",
   "language": "python",
   "name": "python3"
  },
  "language_info": {
   "codemirror_mode": {
    "name": "ipython",
    "version": 3
   },
   "file_extension": ".py",
   "mimetype": "text/x-python",
   "name": "python",
   "nbconvert_exporter": "python",
   "pygments_lexer": "ipython3",
   "version": "3.8.8"
  }
 },
 "nbformat": 4,
 "nbformat_minor": 5
}
