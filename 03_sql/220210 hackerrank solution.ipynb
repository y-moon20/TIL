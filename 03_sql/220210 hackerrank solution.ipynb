{
 "cells": [
  {
   "cell_type": "markdown",
   "id": "63841976",
   "metadata": {},
   "source": [
    "## Weather Observation Station 11\n",
    "https://www.hackerrank.com/challenges/weather-observation-station-11/problem\n",
    "\n",
    "Q.Query the list of CITY names from STATION that either do not start with vowels or do not end with vowels. Your result cannot contain duplicates."
   ]
  },
  {
   "cell_type": "code",
   "execution_count": 1,
   "id": "82cf2ef5",
   "metadata": {},
   "outputs": [],
   "source": [
    "QUERY = \"\"\"\n",
    "    SELECT DISTINCT CITY\n",
    "    FROM STATION\n",
    "    WHERE LEFT(CITY, 1) NOT IN ('A','E','I','O','U')\n",
    "        OR RIGHT(CITY, 1) NOT IN ('A','E','I','O','U')\n",
    "\"\"\""
   ]
  },
  {
   "cell_type": "markdown",
   "id": "54205bf4",
   "metadata": {},
   "source": [
    "## New companies\n",
    "https://www.hackerrank.com/challenges/the-company/problem\n"
   ]
  },
  {
   "cell_type": "code",
   "execution_count": 2,
   "id": "9f044ba8",
   "metadata": {},
   "outputs": [],
   "source": [
    "QUERY = \"\"\"\n",
    "    SELECT C.company_code\n",
    "         , C.founder\n",
    "         , COUNT(DISTINCT L.lead_manager_code)\n",
    "         , COUNT(DISTINCT S.senior_manager_code)\n",
    "         , COUNT(DISTINCT M.manager_code)\n",
    "         , COUNT(DISTINCT E.employee_code)\n",
    "    FROM Company C\n",
    "         LEFT JOIN Lead_Manager L ON C.company_code = L.company_code\n",
    "         LEFT JOIN Senior_Manager S ON L.lead_manager_code = S.lead_manager_code\n",
    "         LEFT JOIN Manager M ON S.senior_manager_code = M.senior_manager_code\n",
    "         LEFT JOIN Employee E ON M.manager_code = E.manager_code\n",
    "    GROUP BY C.company_code, C.founder\n",
    "    ORDER BY C.company_code\n",
    "\"\"\""
   ]
  }
 ],
 "metadata": {
  "kernelspec": {
   "display_name": "Python 3",
   "language": "python",
   "name": "python3"
  },
  "language_info": {
   "codemirror_mode": {
    "name": "ipython",
    "version": 3
   },
   "file_extension": ".py",
   "mimetype": "text/x-python",
   "name": "python",
   "nbconvert_exporter": "python",
   "pygments_lexer": "ipython3",
   "version": "3.8.8"
  }
 },
 "nbformat": 4,
 "nbformat_minor": 5
}
