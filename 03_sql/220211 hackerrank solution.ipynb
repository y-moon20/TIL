{
 "cells": [
  {
   "cell_type": "markdown",
   "id": "63841976",
   "metadata": {},
   "source": [
    "## Weather Observation Station 3\n",
    "https://www.hackerrank.com/challenges/weather-observation-station-3/problem\n",
    "\n",
    "Q.Query a list of CITY names from STATION for cities that have an even ID number. Print the results in any order, but exclude duplicates from the answer."
   ]
  },
  {
   "cell_type": "code",
   "execution_count": 1,
   "id": "82cf2ef5",
   "metadata": {},
   "outputs": [],
   "source": [
    "QUERY = \"\"\"\n",
    "    SELECT DISTINCT CITY\n",
    "    FROM STATION\n",
    "    WHERE ID % 2 = 0;\n",
    "\"\"\""
   ]
  },
  {
   "cell_type": "markdown",
   "id": "54205bf4",
   "metadata": {},
   "source": [
    "## Weather Observation Station 4\n",
    "https://www.hackerrank.com/challenges/weather-observation-station-4/problem\n",
    "\n",
    "Q.Find the difference between the total number of CITY entries in the table and the number of distinct CITY entries in the table."
   ]
  },
  {
   "cell_type": "code",
   "execution_count": 2,
   "id": "9f044ba8",
   "metadata": {},
   "outputs": [],
   "source": [
    "QUERY = \"\"\"\n",
    "    SELECT COUNT(CITY) - COUNT(DISTINCT CITY)\n",
    "    FROM STATION;\n",
    "\"\"\""
   ]
  },
  {
   "cell_type": "markdown",
   "id": "3eec7a20",
   "metadata": {},
   "source": [
    "## Weather Observation Station 19\n",
    "https://www.hackerrank.com/challenges/weather-observation-station-19/problem\n",
    "\n",
    "Q. Consider P1(a,c)and P2(b,d) to be two points on a 2D plane where (a,b) are the respective minimum and maximum values of Northern Latitude (LAT_N) and (c,d) are the respective minimum and maximum values of Western Longitude (LONG_W) in STATION.\n",
    "\n",
    "Query the Euclidean Distance between points P1 and P2 and format your answer to display  decimal digits."
   ]
  },
  {
   "cell_type": "code",
   "execution_count": 3,
   "id": "f2de2904",
   "metadata": {},
   "outputs": [],
   "source": [
    "QUERY = \"\"\"\n",
    "    SELECT ROUND(SQRT(\n",
    "            POWER(MAX(LAT_N)-MIN(LAT_N), 2)\n",
    "           +POWER(MAX(LONG_W)-MIN(LONG_W), 2)\n",
    "            ), 4)\n",
    "    FROM STATION\n",
    "\"\"\""
   ]
  }
 ],
 "metadata": {
  "kernelspec": {
   "display_name": "Python 3",
   "language": "python",
   "name": "python3"
  },
  "language_info": {
   "codemirror_mode": {
    "name": "ipython",
    "version": 3
   },
   "file_extension": ".py",
   "mimetype": "text/x-python",
   "name": "python",
   "nbconvert_exporter": "python",
   "pygments_lexer": "ipython3",
   "version": "3.8.8"
  }
 },
 "nbformat": 4,
 "nbformat_minor": 5
}
