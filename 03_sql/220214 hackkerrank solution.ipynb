{
 "cells": [
  {
   "cell_type": "markdown",
   "id": "63841976",
   "metadata": {},
   "source": [
    "## Binary Tree Nodes\n",
    "https://www.hackerrank.com/challenges/binary-search-tree-1/problem"
   ]
  },
  {
   "cell_type": "code",
   "execution_count": 1,
   "id": "a3f928a3",
   "metadata": {},
   "outputs": [],
   "source": [
    "#IF P IS Null THEN Ntype = 'Root'\n",
    "#IF N NOT IN P(NOT Null) THEN Ntype = 'Leaf'\n",
    "#IF N IN P(NOT Null) THEN Ntype = 'Inner'"
   ]
  },
  {
   "cell_type": "code",
   "execution_count": 2,
   "id": "82cf2ef5",
   "metadata": {},
   "outputs": [],
   "source": [
    "QUERY = \"\"\"\n",
    "SELECT N,(\n",
    "    CASE WHEN P IS Null THEN 'Root'\n",
    "         WHEN N NOT IN (\n",
    "                        SELECT DISTINCT P\n",
    "                        FROM BST\n",
    "                        WHERE P IS NOT Null\n",
    "                        ) THEN 'Leaf'\n",
    "         ELSE 'Inner'\n",
    "    END) AS Ntype\n",
    "FROM BST\n",
    "ORDER BY N\n",
    "\"\"\""
   ]
  }
 ],
 "metadata": {
  "kernelspec": {
   "display_name": "Python 3",
   "language": "python",
   "name": "python3"
  },
  "language_info": {
   "codemirror_mode": {
    "name": "ipython",
    "version": 3
   },
   "file_extension": ".py",
   "mimetype": "text/x-python",
   "name": "python",
   "nbconvert_exporter": "python",
   "pygments_lexer": "ipython3",
   "version": "3.8.8"
  }
 },
 "nbformat": 4,
 "nbformat_minor": 5
}
