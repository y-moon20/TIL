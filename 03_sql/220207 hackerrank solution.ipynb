{
 "cells": [
  {
   "cell_type": "markdown",
   "id": "1d7ce03f",
   "metadata": {},
   "source": [
    "## Japan Population\n",
    "https://www.hackerrank.com/challenges/japan-population/problem"
   ]
  },
  {
   "cell_type": "code",
   "execution_count": 1,
   "id": "aa6ef3b1",
   "metadata": {},
   "outputs": [],
   "source": [
    "QUERY = \"\"\"\n",
    "    SELECT SUM(POPULATION)\n",
    "    FROM CITY\n",
    "    WHERE COUNTRYCODE = 'JPN';\n",
    "\"\"\""
   ]
  }
 ],
 "metadata": {
  "kernelspec": {
   "display_name": "Python 3",
   "language": "python",
   "name": "python3"
  },
  "language_info": {
   "codemirror_mode": {
    "name": "ipython",
    "version": 3
   },
   "file_extension": ".py",
   "mimetype": "text/x-python",
   "name": "python",
   "nbconvert_exporter": "python",
   "pygments_lexer": "ipython3",
   "version": "3.8.8"
  }
 },
 "nbformat": 4,
 "nbformat_minor": 5
}
