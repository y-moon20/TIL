{
 "cells": [
  {
   "cell_type": "markdown",
   "id": "e603a474",
   "metadata": {},
   "source": [
    "## Population Density Difference\n",
    "(https://www.hackerrank.com/challenges/population-density-difference/problem)\n",
    "\n",
    "Q. Query the difference between the maximum and minimum populations in CITY."
   ]
  },
  {
   "cell_type": "code",
   "execution_count": 1,
   "id": "761729f7",
   "metadata": {},
   "outputs": [],
   "source": [
    "QUERY = \"\"\"\n",
    "    SELECT MAX(POPULATION)-MIN(POPULATION)\n",
    "    FROM CITY;\n",
    "\"\"\""
   ]
  },
  {
   "cell_type": "markdown",
   "id": "63841976",
   "metadata": {},
   "source": [
    "## Weather Observation Station 13 \n",
    "(https://www.hackerrank.com/challenges/weather-observation-station-11/problem)\n",
    "\n",
    "Q.Query the sum of Northern Latitudes (LAT_N) from STATION having values greater than 38.7880 and less than 137.2345. Truncate your answer to  4 decimal places."
   ]
  },
  {
   "cell_type": "code",
   "execution_count": 2,
   "id": "82cf2ef5",
   "metadata": {},
   "outputs": [],
   "source": [
    "QUERY = \"\"\"\n",
    "    SELECT ROUND(SUM(LAT_N), 4)\n",
    "    FROM STATION\n",
    "    WHERE LAT_N > 38.7880\n",
    "      AND LAT_N < 137.2345;\n",
    "\"\"\""
   ]
  }
 ],
 "metadata": {
  "kernelspec": {
   "display_name": "Python 3",
   "language": "python",
   "name": "python3"
  },
  "language_info": {
   "codemirror_mode": {
    "name": "ipython",
    "version": 3
   },
   "file_extension": ".py",
   "mimetype": "text/x-python",
   "name": "python",
   "nbconvert_exporter": "python",
   "pygments_lexer": "ipython3",
   "version": "3.8.8"
  }
 },
 "nbformat": 4,
 "nbformat_minor": 5
}
