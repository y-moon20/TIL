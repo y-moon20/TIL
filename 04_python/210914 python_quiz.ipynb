{
 "cells": [
  {
   "cell_type": "markdown",
   "metadata": {},
   "source": [
    "#### 1. 퍼즐 스트라이크\n",
    "- 0~9 까지의 숫자 세개를 랜덤으로 생성\n",
    "- 랜덤으로 생성된 숫자는 중복되면 안됨\n",
    "- 세개의 숫자를 입력받아 랜덤으로 생성된 세개의 숫자를 맞추는 게임\n",
    "- 세개의 숫자를 맞출때까지 계속 숫자를 입력받음\n",
    "- 세개의 숫자중에 자릿수와 숫자가 맞으면 strike\n",
    "- 세개의 숫자중에 숫자는 맞지만 자리수가 안 맞으면 ball\n",
    "- 아무것도 안 맞으면 out\n",
    "- 모두 맞추면 입력한 횟수를 출력하고 반복문 종료\n",
    "\n",
    "- 예시\n",
    "    - 랜덤한 숫자 : 6 2 8\n",
    "    - 입력 1 : 3 7 6\n",
    "        - 출력 : 0S 1B\n",
    "        - 설명 : 숫자 6이 있지만 자릿수가 틀림\n",
    "    - 입력 2 : 7 3 9\n",
    "        - 출력 : OUT\n",
    "        - 설명 : 입력한 모든 숫자가 없으므로 out\n",
    "    - 입력 3 : 6 8 2\n",
    "        - 출력 : 1S 2B \n",
    "        - 설명 : 숫자 6은 자릿수까지 맞으므로 1 strike\n",
    "        - 설명 : 숫자 8, 2는 자릿수가 틀리므로 2 ball\n",
    "    - 입력 4 : 6 2 8\n",
    "        - 출력 : 3S\n",
    "        - 설명 : 입력한 모든 숫자의 숫자와 자릿수가 맞으므로 3 strike"
   ]
  },
  {
   "cell_type": "markdown",
   "metadata": {},
   "source": [
    "<p style=\"text-align:center;\">랜덤한 숫자 : 6, 2, 8<p>\n",
    "\n",
    "|횟수|숫자1|숫자2|숫자3| 판정 |\n",
    "|----|-----|-----|-----|------|\n",
    "|  1 |  3  |  7  |  6  | 0S 1B| \n",
    "|  2 |  7  |  3  |  9  |  OUT | \n",
    "|  3 |  6  |  8  |  2  | 1S 2B| \n",
    "|  4 |  6  |  2  |  8  | 3S 0B| \n",
    "\n"
   ]
  },
  {
   "cell_type": "code",
   "execution_count": 6,
   "metadata": {
    "ExecuteTime": {
     "end_time": "2021-09-14T05:34:25.940901Z",
     "start_time": "2021-09-14T05:34:12.549446Z"
    }
   },
   "outputs": [
    {
     "name": "stdout",
     "output_type": "stream",
     "text": [
      "[9, 0, 4]\n",
      "숫자 3개를 입력하세요(띄어쓰기로 구분)0 9 7\n",
      "0S 2B\n",
      "숫자 3개를 입력하세요(띄어쓰기로 구분)6 6 6\n",
      "OUT\n",
      "숫자 3개를 입력하세요(띄어쓰기로 구분)111\n",
      "잘못 입력하셨습니다.\n",
      "0에서 9사이의 숫자 3개를 입력하세요(띄어쓰기로 구분)2 2 2\n",
      "OUT\n",
      "숫자 3개를 입력하세요(띄어쓰기로 구분)9 0 4\n",
      "3S 0B\n",
      "입력횟수 : 4\n"
     ]
    }
   ],
   "source": [
    "import random\n",
    "\n",
    "# 랜덤으로 숫자 3개 생성하기(중복 불가)\n",
    "random_num=[]\n",
    "while len(random_num) < 3:\n",
    "    num = random.randint(0,9)\n",
    "    if num not in random_num:\n",
    "        random_num.append(num) \n",
    "print(random_num)\n",
    "\n",
    "count = 1\n",
    "while True:\n",
    "    # 사용자에게 숫자 3개 입력 받기(중복 가능)\n",
    "    try:\n",
    "        input1, input2, input3 = map(int, input(\"숫자 3개를 입력하세요(띄어쓰기로 구분)\").split())\n",
    "    except ValueError:\n",
    "        print('잘못 입력하셨습니다.')\n",
    "        input1, input2, input3 = map(int, input(\"0에서 9사이의 숫자 3개를 입력하세요(띄어쓰기로 구분)\").split())\n",
    "    input_num = [input1, input2, input3]\n",
    "    \n",
    "    # 랜덤에 있는 숫자라면 B+1, 랜덤에 있는 숫자이고 랜덤과 인풋의 인덱스가 같으면 S+1\n",
    "    strike = 0\n",
    "    ball = 0\n",
    "    for i in range(3):\n",
    "        if input_num[i] in random_num:\n",
    "            if random_num[i] == input_num[i]:\n",
    "                strike += 1\n",
    "            else:\n",
    "                ball += 1\n",
    "        else:\n",
    "            pass\n",
    "        \n",
    "    # Ball, Strike, Out 출력\n",
    "    if ball == 0 and strike == 0:\n",
    "        print('OUT')\n",
    "    else:\n",
    "        print(f'{strike}S {ball}B')\n",
    "\n",
    "    # 반복할지 종료할지 결정\n",
    "    if ball == 0 and strike == 3:\n",
    "        print(f'입력횟수 : {count}')\n",
    "        break\n",
    "    else:\n",
    "        count += 1"
   ]
  },
  {
   "cell_type": "code",
   "execution_count": null,
   "metadata": {},
   "outputs": [],
   "source": []
  }
 ],
 "metadata": {
  "kernelspec": {
   "display_name": "Python 3",
   "language": "python",
   "name": "python3"
  },
  "language_info": {
   "codemirror_mode": {
    "name": "ipython",
    "version": 3
   },
   "file_extension": ".py",
   "mimetype": "text/x-python",
   "name": "python",
   "nbconvert_exporter": "python",
   "pygments_lexer": "ipython3",
   "version": "3.8.8"
  },
  "toc": {
   "base_numbering": 1,
   "nav_menu": {},
   "number_sections": true,
   "sideBar": true,
   "skip_h1_title": false,
   "title_cell": "Table of Contents",
   "title_sidebar": "Contents",
   "toc_cell": false,
   "toc_position": {},
   "toc_section_display": true,
   "toc_window_display": false
  },
  "varInspector": {
   "cols": {
    "lenName": 16,
    "lenType": 16,
    "lenVar": 40
   },
   "kernels_config": {
    "python": {
     "delete_cmd_postfix": "",
     "delete_cmd_prefix": "del ",
     "library": "var_list.py",
     "varRefreshCmd": "print(var_dic_list())"
    },
    "r": {
     "delete_cmd_postfix": ") ",
     "delete_cmd_prefix": "rm(",
     "library": "var_list.r",
     "varRefreshCmd": "cat(var_dic_list()) "
    }
   },
   "types_to_exclude": [
    "module",
    "function",
    "builtin_function_or_method",
    "instance",
    "_Feature"
   ],
   "window_display": false
  }
 },
 "nbformat": 4,
 "nbformat_minor": 4
}
